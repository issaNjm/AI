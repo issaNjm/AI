{
 "cells": [
  {
   "cell_type": "code",
   "execution_count": 136,
   "id": "5df4619b",
   "metadata": {},
   "outputs": [],
   "source": [
    "import pandas as pd"
   ]
  },
  {
   "cell_type": "code",
   "execution_count": 137,
   "id": "69818bf5",
   "metadata": {},
   "outputs": [],
   "source": [
    "# Load the dataset\n",
    "df = pd.read_csv('../01_Data/train.csv')"
   ]
  },
  {
   "cell_type": "code",
   "execution_count": 138,
   "id": "a797b290",
   "metadata": {},
   "outputs": [
    {
     "name": "stdout",
     "output_type": "stream",
     "text": [
      "Age         177\n",
      "Cabin       687\n",
      "Embarked      2\n",
      "dtype: int64\n",
      "Column: Age (Missing: 177)\n",
      "Age\n",
      "24.00    30\n",
      "22.00    27\n",
      "18.00    26\n",
      "28.00    25\n",
      "30.00    25\n",
      "         ..\n",
      "24.50     1\n",
      "0.67      1\n",
      "0.42      1\n",
      "34.50     1\n",
      "74.00     1\n",
      "Name: count, Length: 88, dtype: int64\n",
      "\n",
      "----------------------------------------\n",
      "\n",
      "Column: Cabin (Missing: 687)\n",
      "Cabin\n",
      "G6             4\n",
      "C23 C25 C27    4\n",
      "B96 B98        4\n",
      "F2             3\n",
      "D              3\n",
      "              ..\n",
      "E17            1\n",
      "A24            1\n",
      "C50            1\n",
      "B42            1\n",
      "C148           1\n",
      "Name: count, Length: 147, dtype: int64\n",
      "\n",
      "----------------------------------------\n",
      "\n",
      "Column: Embarked (Missing: 2)\n",
      "Embarked\n",
      "S    644\n",
      "C    168\n",
      "Q     77\n",
      "Name: count, dtype: int64\n",
      "\n",
      "----------------------------------------\n",
      "\n"
     ]
    }
   ],
   "source": [
    "# Get columns with missing values and their null counts\n",
    "null_counts = df.isnull().sum()\n",
    "null_columns = null_counts[null_counts > 0]\n",
    "print(null_columns)\n",
    "# Iterate and print value counts along with null count\n",
    "for col in null_columns.index:\n",
    "    print(f\"Column: {col} (Missing: {null_columns[col]})\")\n",
    "    print(df[col].value_counts(dropna=True))\n",
    "    print(\"\\n\" + \"-\"*40 + \"\\n\")\n"
   ]
  },
  {
   "cell_type": "code",
   "execution_count": 139,
   "id": "882e67c7",
   "metadata": {},
   "outputs": [],
   "source": [
    "# Fill missing Age with median\n",
    "df['Age'] = df['Age'].fillna(df['Age'].median())\n",
    "\n",
    "# Fill missing Embarked with the mode (most common)\n",
    "df['Embarked'] = df['Embarked'].fillna(df['Embarked'].mode()[0])\n",
    "\n",
    "# Optionally drop Cabin (too many missing values)\n",
    "df = df.drop(columns=['Cabin'])\n",
    "\n"
   ]
  },
  {
   "cell_type": "code",
   "execution_count": 140,
   "id": "c8d27f34",
   "metadata": {},
   "outputs": [
    {
     "data": {
      "text/plain": [
       "PassengerId    0\n",
       "Survived       0\n",
       "Pclass         0\n",
       "Name           0\n",
       "Sex            0\n",
       "Age            0\n",
       "SibSp          0\n",
       "Parch          0\n",
       "Ticket         0\n",
       "Fare           0\n",
       "Embarked       0\n",
       "dtype: int64"
      ]
     },
     "execution_count": 140,
     "metadata": {},
     "output_type": "execute_result"
    }
   ],
   "source": [
    "df.isnull().sum()"
   ]
  },
  {
   "cell_type": "code",
   "execution_count": 141,
   "id": "6b17aa88",
   "metadata": {},
   "outputs": [],
   "source": [
    "from sklearn.preprocessing import LabelEncoder\n",
    "\n",
    "le = LabelEncoder()\n",
    "df['Sex'] = le.fit_transform(df['Sex'])  # female=0, male=1"
   ]
  },
  {
   "cell_type": "code",
   "execution_count": 142,
   "id": "318c57f6",
   "metadata": {},
   "outputs": [],
   "source": [
    "df = pd.get_dummies(df, columns=['Embarked'], prefix='Embarked')\n"
   ]
  },
  {
   "cell_type": "code",
   "execution_count": 143,
   "id": "b76c0cc1",
   "metadata": {},
   "outputs": [
    {
     "data": {
      "text/html": [
       "<div>\n",
       "<style scoped>\n",
       "    .dataframe tbody tr th:only-of-type {\n",
       "        vertical-align: middle;\n",
       "    }\n",
       "\n",
       "    .dataframe tbody tr th {\n",
       "        vertical-align: top;\n",
       "    }\n",
       "\n",
       "    .dataframe thead th {\n",
       "        text-align: right;\n",
       "    }\n",
       "</style>\n",
       "<table border=\"1\" class=\"dataframe\">\n",
       "  <thead>\n",
       "    <tr style=\"text-align: right;\">\n",
       "      <th></th>\n",
       "      <th>PassengerId</th>\n",
       "      <th>Survived</th>\n",
       "      <th>Pclass</th>\n",
       "      <th>Name</th>\n",
       "      <th>Sex</th>\n",
       "      <th>Age</th>\n",
       "      <th>SibSp</th>\n",
       "      <th>Parch</th>\n",
       "      <th>Ticket</th>\n",
       "      <th>Fare</th>\n",
       "      <th>Embarked_C</th>\n",
       "      <th>Embarked_Q</th>\n",
       "      <th>Embarked_S</th>\n",
       "    </tr>\n",
       "  </thead>\n",
       "  <tbody>\n",
       "    <tr>\n",
       "      <th>0</th>\n",
       "      <td>1</td>\n",
       "      <td>0</td>\n",
       "      <td>3</td>\n",
       "      <td>Braund, Mr. Owen Harris</td>\n",
       "      <td>1</td>\n",
       "      <td>22.0</td>\n",
       "      <td>1</td>\n",
       "      <td>0</td>\n",
       "      <td>A/5 21171</td>\n",
       "      <td>7.2500</td>\n",
       "      <td>False</td>\n",
       "      <td>False</td>\n",
       "      <td>True</td>\n",
       "    </tr>\n",
       "    <tr>\n",
       "      <th>1</th>\n",
       "      <td>2</td>\n",
       "      <td>1</td>\n",
       "      <td>1</td>\n",
       "      <td>Cumings, Mrs. John Bradley (Florence Briggs Th...</td>\n",
       "      <td>0</td>\n",
       "      <td>38.0</td>\n",
       "      <td>1</td>\n",
       "      <td>0</td>\n",
       "      <td>PC 17599</td>\n",
       "      <td>71.2833</td>\n",
       "      <td>True</td>\n",
       "      <td>False</td>\n",
       "      <td>False</td>\n",
       "    </tr>\n",
       "    <tr>\n",
       "      <th>2</th>\n",
       "      <td>3</td>\n",
       "      <td>1</td>\n",
       "      <td>3</td>\n",
       "      <td>Heikkinen, Miss. Laina</td>\n",
       "      <td>0</td>\n",
       "      <td>26.0</td>\n",
       "      <td>0</td>\n",
       "      <td>0</td>\n",
       "      <td>STON/O2. 3101282</td>\n",
       "      <td>7.9250</td>\n",
       "      <td>False</td>\n",
       "      <td>False</td>\n",
       "      <td>True</td>\n",
       "    </tr>\n",
       "    <tr>\n",
       "      <th>3</th>\n",
       "      <td>4</td>\n",
       "      <td>1</td>\n",
       "      <td>1</td>\n",
       "      <td>Futrelle, Mrs. Jacques Heath (Lily May Peel)</td>\n",
       "      <td>0</td>\n",
       "      <td>35.0</td>\n",
       "      <td>1</td>\n",
       "      <td>0</td>\n",
       "      <td>113803</td>\n",
       "      <td>53.1000</td>\n",
       "      <td>False</td>\n",
       "      <td>False</td>\n",
       "      <td>True</td>\n",
       "    </tr>\n",
       "    <tr>\n",
       "      <th>4</th>\n",
       "      <td>5</td>\n",
       "      <td>0</td>\n",
       "      <td>3</td>\n",
       "      <td>Allen, Mr. William Henry</td>\n",
       "      <td>1</td>\n",
       "      <td>35.0</td>\n",
       "      <td>0</td>\n",
       "      <td>0</td>\n",
       "      <td>373450</td>\n",
       "      <td>8.0500</td>\n",
       "      <td>False</td>\n",
       "      <td>False</td>\n",
       "      <td>True</td>\n",
       "    </tr>\n",
       "  </tbody>\n",
       "</table>\n",
       "</div>"
      ],
      "text/plain": [
       "   PassengerId  Survived  Pclass  \\\n",
       "0            1         0       3   \n",
       "1            2         1       1   \n",
       "2            3         1       3   \n",
       "3            4         1       1   \n",
       "4            5         0       3   \n",
       "\n",
       "                                                Name  Sex   Age  SibSp  Parch  \\\n",
       "0                            Braund, Mr. Owen Harris    1  22.0      1      0   \n",
       "1  Cumings, Mrs. John Bradley (Florence Briggs Th...    0  38.0      1      0   \n",
       "2                             Heikkinen, Miss. Laina    0  26.0      0      0   \n",
       "3       Futrelle, Mrs. Jacques Heath (Lily May Peel)    0  35.0      1      0   \n",
       "4                           Allen, Mr. William Henry    1  35.0      0      0   \n",
       "\n",
       "             Ticket     Fare  Embarked_C  Embarked_Q  Embarked_S  \n",
       "0         A/5 21171   7.2500       False       False        True  \n",
       "1          PC 17599  71.2833        True       False       False  \n",
       "2  STON/O2. 3101282   7.9250       False       False        True  \n",
       "3            113803  53.1000       False       False        True  \n",
       "4            373450   8.0500       False       False        True  "
      ]
     },
     "execution_count": 143,
     "metadata": {},
     "output_type": "execute_result"
    }
   ],
   "source": [
    "df.head(5)"
   ]
  },
  {
   "cell_type": "code",
   "execution_count": 144,
   "id": "d9e48259",
   "metadata": {},
   "outputs": [],
   "source": [
    "def transform_name(df):\n",
    "    # Extract title using regex\n",
    "    df['Title'] = df['Name'].str.extract(' ([A-Za-z]+)\\.', expand=False)\n",
    "\n",
    "    # Simplify rare titles\n",
    "    df['Title'] = df['Title'].replace(\n",
    "        ['Lady', 'Countess', 'Capt', 'Col', 'Don', 'Dr', 'Major', 'Rev', \n",
    "        'Sir', 'Jonkheer', 'Dona'], 'Rare')\n",
    "    df['Title'] = df['Title'].replace({'Mlle': 'Miss', 'Ms': 'Miss', 'Mme': 'Mrs'})\n"
   ]
  },
  {
   "cell_type": "code",
   "execution_count": 145,
   "id": "ff04b962",
   "metadata": {},
   "outputs": [],
   "source": [
    "# # Extract title using regex\n",
    "# df['Title'] = df['Name'].str.extract(' ([A-Za-z]+)\\.', expand=False)\n",
    "\n",
    "# # Simplify rare titles\n",
    "# df['Title'] = df['Title'].replace(\n",
    "#     ['Lady', 'Countess', 'Capt', 'Col', 'Don', 'Dr', 'Major', 'Rev', \n",
    "#      'Sir', 'Jonkheer', 'Dona'], 'Rare')\n",
    "# df['Title'] = df['Title'].replace({'Mlle': 'Miss', 'Ms': 'Miss', 'Mme': 'Mrs'})\n",
    "transform_name(df)"
   ]
  },
  {
   "cell_type": "code",
   "execution_count": 146,
   "id": "c4eb8e24",
   "metadata": {},
   "outputs": [
    {
     "data": {
      "text/plain": [
       "Title\n",
       "Mr        517\n",
       "Miss      185\n",
       "Mrs       126\n",
       "Master     40\n",
       "Rare       23\n",
       "Name: count, dtype: int64"
      ]
     },
     "execution_count": 146,
     "metadata": {},
     "output_type": "execute_result"
    }
   ],
   "source": [
    "df['Title'].value_counts()"
   ]
  },
  {
   "cell_type": "code",
   "execution_count": 147,
   "id": "117dd2be",
   "metadata": {},
   "outputs": [],
   "source": [
    "def tranform_age(df):\n",
    "    # Create age bins (this leaves NaN unchanged)\n",
    "    df['AgeGroup'] = pd.cut(df['Age'], bins=[0, 12, 20, 40, 60, 80], \n",
    "                            labels=['Child', 'Teen', 'Adult', 'Middle-Aged', 'Senior'])"
   ]
  },
  {
   "cell_type": "code",
   "execution_count": 148,
   "id": "b2fe2775",
   "metadata": {},
   "outputs": [],
   "source": [
    "tranform_age(df)\n",
    "# Create age bins (this leaves NaN unchanged)\n",
    "# df['AgeGroup'] = pd.cut(df['Age'], bins=[0, 12, 20, 40, 60, 80], \n",
    "#                         labels=['Child', 'Teen', 'Adult', 'Middle-Aged', 'Senior'])"
   ]
  },
  {
   "cell_type": "code",
   "execution_count": 149,
   "id": "5a269ed6",
   "metadata": {},
   "outputs": [
    {
     "data": {
      "text/plain": [
       "AgeGroup\n",
       "Adult          562\n",
       "Middle-Aged    128\n",
       "Teen           110\n",
       "Child           69\n",
       "Senior          22\n",
       "Name: count, dtype: int64"
      ]
     },
     "execution_count": 149,
     "metadata": {},
     "output_type": "execute_result"
    }
   ],
   "source": [
    "df['AgeGroup'].value_counts()"
   ]
  },
  {
   "cell_type": "code",
   "execution_count": 150,
   "id": "4ad6bd4b",
   "metadata": {},
   "outputs": [],
   "source": [
    "df = pd.get_dummies(df, columns=['AgeGroup'], prefix='AgeGroup')\n",
    "df = pd.get_dummies(df, columns=['Title'], prefix='Title')\n",
    "\n"
   ]
  },
  {
   "cell_type": "code",
   "execution_count": 151,
   "id": "dde0ea59",
   "metadata": {},
   "outputs": [
    {
     "name": "stdout",
     "output_type": "stream",
     "text": [
      "['PassengerId', 'Survived', 'Pclass', 'Name', 'Sex', 'Age', 'SibSp', 'Parch', 'Ticket', 'Fare', 'Embarked_C', 'Embarked_Q', 'Embarked_S', 'AgeGroup_Child', 'AgeGroup_Teen', 'AgeGroup_Adult', 'AgeGroup_Middle-Aged', 'AgeGroup_Senior', 'Title_Master', 'Title_Miss', 'Title_Mr', 'Title_Mrs', 'Title_Rare']\n"
     ]
    }
   ],
   "source": [
    "print(df.columns.to_list())"
   ]
  },
  {
   "cell_type": "code",
   "execution_count": 152,
   "id": "705d90e8",
   "metadata": {},
   "outputs": [],
   "source": [
    "df.drop(['Age', 'Name','Ticket','PassengerId'], axis=1, inplace=True)\n"
   ]
  },
  {
   "cell_type": "code",
   "execution_count": 153,
   "id": "245589f2",
   "metadata": {},
   "outputs": [],
   "source": [
    "from sklearn.preprocessing import MinMaxScaler\n",
    "\n",
    "scaler = MinMaxScaler()\n",
    "df['Fare'] = scaler.fit_transform(df[['Fare']])\n"
   ]
  },
  {
   "cell_type": "code",
   "execution_count": 154,
   "id": "41feb1fd",
   "metadata": {},
   "outputs": [],
   "source": [
    "df.to_csv(\"../03_Outputs/Preprocessed Train.csv\",index=False)"
   ]
  },
  {
   "cell_type": "code",
   "execution_count": 155,
   "id": "559e9e9b",
   "metadata": {},
   "outputs": [],
   "source": [
    "#preprocessing of test dataset\n",
    "\n",
    "# Load test data\n",
    "df_test = pd.read_csv(r'../01_Data/test.csv')\n",
    "df_test_label = pd.read_csv(r\"..\\01_Data\\gender_submission.csv\")\n",
    "df_test = pd.merge(df_test, df_test_label, on='PassengerId', how='left')"
   ]
  },
  {
   "cell_type": "code",
   "execution_count": 156,
   "id": "fbd22224",
   "metadata": {},
   "outputs": [
    {
     "data": {
      "text/plain": [
       "PassengerId      0\n",
       "Pclass           0\n",
       "Name             0\n",
       "Sex              0\n",
       "Age             86\n",
       "SibSp            0\n",
       "Parch            0\n",
       "Ticket           0\n",
       "Fare             1\n",
       "Cabin          327\n",
       "Embarked         0\n",
       "Survived         0\n",
       "dtype: int64"
      ]
     },
     "execution_count": 156,
     "metadata": {},
     "output_type": "execute_result"
    }
   ],
   "source": [
    "df_test.isna().sum()"
   ]
  },
  {
   "cell_type": "code",
   "execution_count": 157,
   "id": "800f73d6",
   "metadata": {},
   "outputs": [],
   "source": [
    "# Fill missing Age with median\n",
    "df_test['Age'] = df_test['Age'].fillna(df_test['Age'].median())\n",
    "df_test['Fare'] = df_test['Fare'].fillna(df_test['Fare'].median())"
   ]
  },
  {
   "cell_type": "code",
   "execution_count": 158,
   "id": "46fe2260",
   "metadata": {},
   "outputs": [
    {
     "data": {
      "text/plain": [
       "PassengerId      0\n",
       "Pclass           0\n",
       "Name             0\n",
       "Sex              0\n",
       "Age              0\n",
       "SibSp            0\n",
       "Parch            0\n",
       "Ticket           0\n",
       "Fare             0\n",
       "Cabin          327\n",
       "Embarked         0\n",
       "Survived         0\n",
       "dtype: int64"
      ]
     },
     "execution_count": 158,
     "metadata": {},
     "output_type": "execute_result"
    }
   ],
   "source": [
    "df_test.isna().sum()\n",
    "#cabin coilumn will be removed"
   ]
  },
  {
   "cell_type": "code",
   "execution_count": null,
   "id": "016d19dc",
   "metadata": {},
   "outputs": [
    {
     "name": "stdout",
     "output_type": "stream",
     "text": [
      "set()\n"
     ]
    }
   ],
   "source": [
    "\n",
    "\n",
    "# 1. Label encode 'Sex' using the trained encoder\n",
    "df_test['Sex'] = le.transform(df_test['Sex'])\n",
    "\n",
    "# 2. Extract 'Title' from 'Name' and simplify as in train\n",
    "transform_name(df_test)\n",
    "# df_test['Title'] = df_test['Name'].str.extract(' ([A-Za-z]+)\\.', expand=False)\n",
    "# df_test['Title'] = df_test['Title'].replace(\n",
    "#     ['Lady', 'Countess', 'Capt', 'Col', 'Don', 'Dr', 'Major', 'Rev', \n",
    "#      'Sir', 'Jonkheer', 'Dona'], 'Rare')\n",
    "# df_test['Title'] = df_test['Title'].replace({'Mlle': 'Miss', 'Ms': 'Miss', 'Mme': 'Mrs'})\n",
    "\n",
    "# 3. Create AgeGroup bins (NaNs will stay NaN)\n",
    "tranform_age(df_test)\n",
    "# df_test['AgeGroup'] = pd.cut(df_test['Age'], bins=[0, 12, 20, 40, 60, 80], \n",
    "#                              labels=['Child', 'Teen', 'Adult', 'Middle-Aged', 'Senior'])\n",
    "\n",
    "# 4. One-hot encode 'Embarked', 'AgeGroup', and 'Title'\n",
    "df_test = pd.get_dummies(df_test, columns=['Embarked', 'AgeGroup', 'Title'], prefix=['Embarked', 'AgeGroup', 'Title'])\n",
    "\n",
    "# 5. Normalize 'Fare' using the scaler fitted on train\n",
    "df_test['Fare'] = scaler.transform(df_test[['Fare']])\n",
    "\n",
    "# 6. Drop unused columns like in train\n",
    "df_test.drop(['Age', 'Name', 'PassengerId', 'Ticket'], axis=1, inplace=True)\n",
    "\n",
    "# 7. Ensure test has the *same columns* as train\n",
    "# For any missing columns in test that appeared in train, add them with zeros\n",
    "\n",
    "missing_cols = set(df.columns) - set(df_test.columns) \n",
    "print(missing_cols)\n",
    "#if missing dummies\n",
    "for col in missing_cols:\n",
    "    df_test[col] = 0\n",
    "\n",
    "\n",
    "# Reorder columns to match train dataset exactly\n",
    "df_test = df_test[df.columns]  # drop target column from train columns\n"
   ]
  },
  {
   "cell_type": "code",
   "execution_count": 160,
   "id": "42b604f0",
   "metadata": {},
   "outputs": [],
   "source": [
    "df_test.to_csv(\"../03_Outputs/Preprocessed Test.csv\",index=False)"
   ]
  }
 ],
 "metadata": {
  "kernelspec": {
   "display_name": ".venv",
   "language": "python",
   "name": "python3"
  },
  "language_info": {
   "codemirror_mode": {
    "name": "ipython",
    "version": 3
   },
   "file_extension": ".py",
   "mimetype": "text/x-python",
   "name": "python",
   "nbconvert_exporter": "python",
   "pygments_lexer": "ipython3",
   "version": "3.10.11"
  }
 },
 "nbformat": 4,
 "nbformat_minor": 5
}
