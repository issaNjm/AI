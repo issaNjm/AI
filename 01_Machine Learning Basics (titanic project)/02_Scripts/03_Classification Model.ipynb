{
 "cells": [
  {
   "cell_type": "code",
   "execution_count": 1,
   "id": "5df4619b",
   "metadata": {},
   "outputs": [],
   "source": [
    "import pandas as pd"
   ]
  },
  {
   "cell_type": "code",
   "execution_count": 2,
   "id": "69818bf5",
   "metadata": {},
   "outputs": [],
   "source": [
    "# Load the dataset\n",
    "preprcossed_csv_path = r\"..\\03_Outputs\\Preprocessed Train.csv\"\n",
    "df = pd.read_csv(preprcossed_csv_path)"
   ]
  },
  {
   "cell_type": "code",
   "execution_count": 3,
   "id": "9b55bc1e",
   "metadata": {},
   "outputs": [
    {
     "name": "stdout",
     "output_type": "stream",
     "text": [
      "<class 'pandas.core.frame.DataFrame'>\n",
      "RangeIndex: 891 entries, 0 to 890\n",
      "Data columns (total 19 columns):\n",
      " #   Column                Non-Null Count  Dtype  \n",
      "---  ------                --------------  -----  \n",
      " 0   Survived              891 non-null    int64  \n",
      " 1   Pclass                891 non-null    int64  \n",
      " 2   Sex                   891 non-null    int64  \n",
      " 3   SibSp                 891 non-null    int64  \n",
      " 4   Parch                 891 non-null    int64  \n",
      " 5   Fare                  891 non-null    float64\n",
      " 6   Embarked_C            891 non-null    bool   \n",
      " 7   Embarked_Q            891 non-null    bool   \n",
      " 8   Embarked_S            891 non-null    bool   \n",
      " 9   AgeGroup_Child        891 non-null    bool   \n",
      " 10  AgeGroup_Teen         891 non-null    bool   \n",
      " 11  AgeGroup_Adult        891 non-null    bool   \n",
      " 12  AgeGroup_Middle-Aged  891 non-null    bool   \n",
      " 13  AgeGroup_Senior       891 non-null    bool   \n",
      " 14  Title_Master          891 non-null    bool   \n",
      " 15  Title_Miss            891 non-null    bool   \n",
      " 16  Title_Mr              891 non-null    bool   \n",
      " 17  Title_Mrs             891 non-null    bool   \n",
      " 18  Title_Rare            891 non-null    bool   \n",
      "dtypes: bool(13), float64(1), int64(5)\n",
      "memory usage: 53.2 KB\n"
     ]
    }
   ],
   "source": [
    "df.info()"
   ]
  },
  {
   "cell_type": "code",
   "execution_count": 4,
   "id": "a0574193",
   "metadata": {},
   "outputs": [],
   "source": [
    "#Remove Class and Features\n",
    "X_train = df.drop('Survived', axis=1)\n",
    "y_train = df['Survived']\n"
   ]
  },
  {
   "cell_type": "code",
   "execution_count": 5,
   "id": "4f67fb2c",
   "metadata": {},
   "outputs": [],
   "source": [
    "from sklearn.model_selection import cross_val_score, StratifiedKFold\n",
    "from sklearn.linear_model import LogisticRegression\n",
    "from sklearn.ensemble import RandomForestClassifier\n",
    "import xgboost as xgb\n",
    "import numpy as np\n"
   ]
  },
  {
   "cell_type": "code",
   "execution_count": 6,
   "id": "8169b221",
   "metadata": {},
   "outputs": [],
   "source": [
    "models = {\n",
    "    'Logistic Regression': LogisticRegression(max_iter=1000, random_state=42),\n",
    "    'Random Forest': RandomForestClassifier(n_estimators=100, random_state=42),\n",
    "    'XGBoost': xgb.XGBClassifier( eval_metric='logloss', random_state=42)\n",
    "}\n"
   ]
  },
  {
   "cell_type": "code",
   "execution_count": 7,
   "id": "7dbc57ed",
   "metadata": {},
   "outputs": [],
   "source": [
    "from sklearn.model_selection import StratifiedKFold\n",
    "\n",
    "cv = StratifiedKFold(n_splits=5, shuffle=True, random_state=42)\n"
   ]
  },
  {
   "cell_type": "code",
   "execution_count": 8,
   "id": "f9228fa0",
   "metadata": {},
   "outputs": [
    {
     "name": "stdout",
     "output_type": "stream",
     "text": [
      "Model: Logistic Regression\n",
      "[0.82122905 0.82022472 0.83707865 0.8258427  0.83707865]\n",
      "Logistic Regression Accuracy: 0.8283 ± 0.0074\n",
      "---------------------------------------\n",
      "Model: Random Forest\n",
      "[0.82681564 0.81460674 0.83707865 0.8258427  0.8258427 ]\n",
      "Random Forest Accuracy: 0.8260 ± 0.0071\n",
      "---------------------------------------\n",
      "Model: XGBoost\n",
      "[0.8603352  0.83146067 0.83707865 0.82022472 0.83707865]\n",
      "XGBoost Accuracy: 0.8372 ± 0.0131\n",
      "---------------------------------------\n"
     ]
    }
   ],
   "source": [
    "for name, model in models.items():\n",
    "    print(f\"Model: {name}\")\n",
    "    scores = cross_val_score(model, X_train, y_train, cv=cv, scoring='accuracy')\n",
    "    print(scores)\n",
    "    print(f\"{name} Accuracy: {np.mean(scores):.4f} ± {np.std(scores):.4f}\")\n",
    "    print(\"---------------------------------------\")\n"
   ]
  },
  {
   "cell_type": "code",
   "execution_count": 9,
   "id": "c518c213",
   "metadata": {},
   "outputs": [],
   "source": [
    "# Load the dataset\n",
    "preprcossed_test_csv_path = r\"..\\03_Outputs\\Preprocessed Test.csv\"\n",
    "df_test = pd.read_csv(preprcossed_test_csv_path)"
   ]
  },
  {
   "cell_type": "code",
   "execution_count": 10,
   "id": "bc37df6b",
   "metadata": {},
   "outputs": [],
   "source": [
    "#Remove Class and Features\n",
    "X_test = df_test.drop('Survived', axis=1)\n",
    "y_test = df_test['Survived']"
   ]
  },
  {
   "cell_type": "code",
   "execution_count": 11,
   "id": "b01cb366",
   "metadata": {},
   "outputs": [
    {
     "name": "stdout",
     "output_type": "stream",
     "text": [
      "--- Logistic Regression ---\n",
      "Accuracy:  0.9330\n",
      "Precision: 0.8735\n",
      "Recall:    0.9539\n",
      "Confusion Matrix:\n",
      "[[245  21]\n",
      " [  7 145]]\n",
      "\n",
      "--- Random Forest ---\n",
      "Accuracy:  0.8493\n",
      "Precision: 0.7730\n",
      "Recall:    0.8289\n",
      "Confusion Matrix:\n",
      "[[229  37]\n",
      " [ 26 126]]\n",
      "\n",
      "--- XGBoost ---\n",
      "Accuracy:  0.8612\n",
      "Precision: 0.7901\n",
      "Recall:    0.8421\n",
      "Confusion Matrix:\n",
      "[[232  34]\n",
      " [ 24 128]]\n",
      "\n"
     ]
    }
   ],
   "source": [
    "from sklearn.metrics import accuracy_score, precision_score, recall_score, confusion_matrix\n",
    "\n",
    "# Assuming X_train, X_test, y_train, y_test are already defined\n",
    "results = {}\n",
    "for name, model in models.items():\n",
    "    print(f\"--- {name} ---\")\n",
    "    model.fit(X_train, y_train)\n",
    "    y_pred = model.predict(X_test)\n",
    "    \n",
    "    acc = accuracy_score(y_test, y_pred)\n",
    "    prec = precision_score(y_test, y_pred)\n",
    "    rec = recall_score(y_test, y_pred)\n",
    "    cm = confusion_matrix(y_test, y_pred)\n",
    "    results[name]= {\"accuracy_score\":acc,\"precision_score\":prec,\"recall_score\":rec,\"confusion_matrix\" : cm}\n",
    "    print(f\"Accuracy:  {acc:.4f}\")\n",
    "    print(f\"Precision: {prec:.4f}\")\n",
    "    print(f\"Recall:    {rec:.4f}\")\n",
    "    print(\"Confusion Matrix:\")\n",
    "    print(cm)\n",
    "    print()\n"
   ]
  },
  {
   "cell_type": "code",
   "execution_count": 12,
   "id": "fb1e23e1",
   "metadata": {},
   "outputs": [
    {
     "name": "stdout",
     "output_type": "stream",
     "text": [
      "Best model based on precision: Logistic Regression\n",
      "Best model based on recall: Logistic Regression\n"
     ]
    }
   ],
   "source": [
    "# Find the best model based on precision\n",
    "best_model_precision = max(results, key=lambda x: results[x]['precision_score'])\n",
    "print(f\"Best model based on precision: {best_model_precision}\")\n",
    "\n",
    "# Find the best model based on recall\n",
    "best_model_recall = max(results, key=lambda x: results[x]['recall_score'])\n",
    "print(f\"Best model based on recall: {best_model_recall}\")\n"
   ]
  }
 ],
 "metadata": {
  "kernelspec": {
   "display_name": ".venv",
   "language": "python",
   "name": "python3"
  },
  "language_info": {
   "codemirror_mode": {
    "name": "ipython",
    "version": 3
   },
   "file_extension": ".py",
   "mimetype": "text/x-python",
   "name": "python",
   "nbconvert_exporter": "python",
   "pygments_lexer": "ipython3",
   "version": "3.10.11"
  }
 },
 "nbformat": 4,
 "nbformat_minor": 5
}
