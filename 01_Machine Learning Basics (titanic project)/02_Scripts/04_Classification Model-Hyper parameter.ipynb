{
 "cells": [
  {
   "cell_type": "code",
   "execution_count": 23,
   "id": "5df4619b",
   "metadata": {},
   "outputs": [],
   "source": [
    "import pandas as pd"
   ]
  },
  {
   "cell_type": "code",
   "execution_count": 24,
   "id": "69818bf5",
   "metadata": {},
   "outputs": [],
   "source": [
    "# Load the dataset\n",
    "preprcossed_csv_path = r\"..\\03_Outputs\\Preprocessed Train.csv\"\n",
    "df = pd.read_csv(preprcossed_csv_path)"
   ]
  },
  {
   "cell_type": "code",
   "execution_count": 25,
   "id": "9b55bc1e",
   "metadata": {},
   "outputs": [
    {
     "name": "stdout",
     "output_type": "stream",
     "text": [
      "<class 'pandas.core.frame.DataFrame'>\n",
      "RangeIndex: 891 entries, 0 to 890\n",
      "Data columns (total 19 columns):\n",
      " #   Column                Non-Null Count  Dtype  \n",
      "---  ------                --------------  -----  \n",
      " 0   Survived              891 non-null    int64  \n",
      " 1   Pclass                891 non-null    int64  \n",
      " 2   Sex                   891 non-null    int64  \n",
      " 3   SibSp                 891 non-null    int64  \n",
      " 4   Parch                 891 non-null    int64  \n",
      " 5   Fare                  891 non-null    float64\n",
      " 6   Embarked_C            891 non-null    bool   \n",
      " 7   Embarked_Q            891 non-null    bool   \n",
      " 8   Embarked_S            891 non-null    bool   \n",
      " 9   AgeGroup_Child        891 non-null    bool   \n",
      " 10  AgeGroup_Teen         891 non-null    bool   \n",
      " 11  AgeGroup_Adult        891 non-null    bool   \n",
      " 12  AgeGroup_Middle-Aged  891 non-null    bool   \n",
      " 13  AgeGroup_Senior       891 non-null    bool   \n",
      " 14  Title_Master          891 non-null    bool   \n",
      " 15  Title_Miss            891 non-null    bool   \n",
      " 16  Title_Mr              891 non-null    bool   \n",
      " 17  Title_Mrs             891 non-null    bool   \n",
      " 18  Title_Rare            891 non-null    bool   \n",
      "dtypes: bool(13), float64(1), int64(5)\n",
      "memory usage: 53.2 KB\n"
     ]
    }
   ],
   "source": [
    "df.info()"
   ]
  },
  {
   "cell_type": "code",
   "execution_count": 26,
   "id": "a0574193",
   "metadata": {},
   "outputs": [],
   "source": [
    "#Remove Class and Features\n",
    "X_train = df.drop('Survived', axis=1)\n",
    "y_train = df['Survived']\n"
   ]
  },
  {
   "cell_type": "code",
   "execution_count": 27,
   "id": "4f67fb2c",
   "metadata": {},
   "outputs": [],
   "source": [
    "from sklearn.linear_model import LogisticRegression\n",
    "from sklearn.ensemble import RandomForestClassifier\n",
    "import xgboost as xgb\n",
    "import numpy as np\n"
   ]
  },
  {
   "cell_type": "code",
   "execution_count": 28,
   "id": "8169b221",
   "metadata": {},
   "outputs": [],
   "source": [
    "models = [\n",
    "    {'name': 'Logistic Regression',\n",
    "      'model': LogisticRegression(max_iter=1000, random_state=42), \n",
    "     'param_grid': {\n",
    "         'C': [0.1, 1, 10], \n",
    "         'solver': ['lbfgs', 'liblinear'],\n",
    "         'max_iter': [100, 1000]\n",
    "     }},\n",
    "    \n",
    "    {'name': 'Random Forest', 'model': RandomForestClassifier(random_state=42), \n",
    "     'param_grid': {\n",
    "         'n_estimators': [50, 100, 200],\n",
    "         'max_depth': [None, 10, 20],\n",
    "         'min_samples_split': [2, 5],\n",
    "         'min_samples_leaf': [1, 2]\n",
    "     }},\n",
    "    \n",
    "    {'name': 'XGBoost', 'model': xgb.XGBClassifier(eval_metric='logloss', random_state=42), \n",
    "     'param_grid': {\n",
    "         'n_estimators': [50, 100],\n",
    "         'max_depth': [3, 6],\n",
    "         'learning_rate': [0.01, 0.1],\n",
    "         'subsample': [0.8, 1.0]\n",
    "     }}\n",
    "]\n"
   ]
  },
  {
   "cell_type": "code",
   "execution_count": 29,
   "id": "c518c213",
   "metadata": {},
   "outputs": [],
   "source": [
    "# Load the dataset\n",
    "preprcossed_test_csv_path = r\"..\\03_Outputs\\Preprocessed Test.csv\"\n",
    "df_test = pd.read_csv(preprcossed_test_csv_path)"
   ]
  },
  {
   "cell_type": "code",
   "execution_count": 30,
   "id": "bc37df6b",
   "metadata": {},
   "outputs": [],
   "source": [
    "#Remove Class and Features\n",
    "X_test = df_test.drop('Survived', axis=1)\n",
    "y_test = df_test['Survived']"
   ]
  },
  {
   "cell_type": "code",
   "execution_count": 31,
   "id": "b01cb366",
   "metadata": {},
   "outputs": [
    {
     "name": "stdout",
     "output_type": "stream",
     "text": [
      "--- Tuning and Evaluating Logistic Regression ---\n",
      "Fitting 5 folds for each of 12 candidates, totalling 60 fits\n",
      "Logistic Regression best params: {'C': 1, 'max_iter': 100, 'solver': 'liblinear'}\n",
      "Logistic Regression accuracy: 0.9330\n",
      "\n",
      "--- Tuning and Evaluating Random Forest ---\n",
      "Fitting 5 folds for each of 36 candidates, totalling 180 fits\n",
      "Random Forest best params: {'max_depth': 10, 'min_samples_leaf': 2, 'min_samples_split': 5, 'n_estimators': 50}\n",
      "Random Forest accuracy: 0.8780\n",
      "\n",
      "--- Tuning and Evaluating XGBoost ---\n",
      "Fitting 5 folds for each of 16 candidates, totalling 80 fits\n",
      "XGBoost best params: {'learning_rate': 0.1, 'max_depth': 6, 'n_estimators': 50, 'subsample': 0.8}\n",
      "XGBoost accuracy: 0.8708\n",
      "\n"
     ]
    }
   ],
   "source": [
    "from sklearn.model_selection import GridSearchCV\n",
    "from sklearn.metrics import accuracy_score, precision_score, recall_score, confusion_matrix\n",
    "\n",
    "results = {}\n",
    "\n",
    "for model_dict in models:\n",
    "    name = model_dict['name']\n",
    "    model = model_dict['model']\n",
    "    param_grid = model_dict['param_grid']\n",
    "    print(f\"--- Tuning and Evaluating {name} ---\")\n",
    "    \n",
    "    # Run GridSearchCV\n",
    "    grid_search = GridSearchCV(model, param_grid, cv=5, scoring='accuracy', n_jobs=-1, verbose=1)\n",
    "    grid_search.fit(X_train, y_train)\n",
    "    \n",
    "    # Best estimator from GridSearchCV\n",
    "    best_model = grid_search.best_estimator_\n",
    "    \n",
    "    # Predict on test set\n",
    "    y_pred = best_model.predict(X_test)\n",
    "    \n",
    "    # Calculate metrics\n",
    "    acc = accuracy_score(y_test, y_pred)\n",
    "    prec = precision_score(y_test, y_pred)\n",
    "    rec = recall_score(y_test, y_pred)\n",
    "    cm = confusion_matrix(y_test, y_pred)\n",
    "    \n",
    "    # Store results and best params\n",
    "    results[name] = {\n",
    "        'best_params': grid_search.best_params_,\n",
    "        'accuracy_score': acc,\n",
    "        'precision_score': prec,\n",
    "        'recall_score': rec,\n",
    "        'confusion_matrix': cm,\n",
    "        'best_estimator': best_model\n",
    "    }\n",
    "    \n",
    "    print(f\"{name} best params: {grid_search.best_params_}\")\n",
    "    print(f\"{name} accuracy: {acc:.4f}\")\n",
    "    print()\n"
   ]
  },
  {
   "cell_type": "code",
   "execution_count": 32,
   "id": "261dc68a",
   "metadata": {},
   "outputs": [
    {
     "name": "stdout",
     "output_type": "stream",
     "text": [
      "Best model based on accuracy: Logistic Regression\n",
      "Best params: {'C': 1, 'max_iter': 100, 'solver': 'liblinear'}\n",
      "Accuracy: 0.9330\n",
      "Precision: 0.8735\n",
      "Recall: 0.9539\n",
      "Confusion Matrix:\n",
      "[[245  21]\n",
      " [  7 145]]\n"
     ]
    }
   ],
   "source": [
    "# Find best model based on accuracy (you can change metric)\n",
    "best_model_name = max(results, key=lambda x: results[x]['accuracy_score'])\n",
    "print(f\"Best model based on accuracy: {best_model_name}\")\n",
    "\n",
    "# Show best model results\n",
    "best_result = results[best_model_name]\n",
    "print(f\"Best params: {best_result['best_params']}\")\n",
    "print(f\"Accuracy: {best_result['accuracy_score']:.4f}\")\n",
    "print(f\"Precision: {best_result['precision_score']:.4f}\")\n",
    "print(f\"Recall: {best_result['recall_score']:.4f}\")\n",
    "print(\"Confusion Matrix:\")\n",
    "print(best_result['confusion_matrix'])"
   ]
  }
 ],
 "metadata": {
  "kernelspec": {
   "display_name": ".venv",
   "language": "python",
   "name": "python3"
  },
  "language_info": {
   "codemirror_mode": {
    "name": "ipython",
    "version": 3
   },
   "file_extension": ".py",
   "mimetype": "text/x-python",
   "name": "python",
   "nbconvert_exporter": "python",
   "pygments_lexer": "ipython3",
   "version": "3.10.11"
  }
 },
 "nbformat": 4,
 "nbformat_minor": 5
}
